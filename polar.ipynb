{
 "cells": [
  {
   "cell_type": "markdown",
   "metadata": {},
   "source": [
    "# Loading 21 gb of data using polars"
   ]
  },
  {
   "cell_type": "code",
   "execution_count": 1,
   "metadata": {},
   "outputs": [],
   "source": [
    "import polars as pl\n",
    "import pandas as pd\n",
    "import datetime as dt\n",
    "from plotnine import *"
   ]
  },
  {
   "cell_type": "code",
   "execution_count": null,
   "metadata": {},
   "outputs": [],
   "source": [
    "sf_scan = pl.scan_csv(r'D:\\Polars\\HARP_Files\\HARPLPPub.csv',try_parse_dates=True, separator=\"|\")"
   ]
  },
  {
   "cell_type": "code",
   "execution_count": 3,
   "metadata": {},
   "outputs": [
    {
     "ename": "NameError",
     "evalue": "name 'sf_scan' is not defined",
     "output_type": "error",
     "traceback": [
      "\u001b[1;31m---------------------------------------------------------------------------\u001b[0m",
      "\u001b[1;31mNameError\u001b[0m                                 Traceback (most recent call last)",
      "\u001b[1;32md:\\Polars\\polar.ipynb Cell 4\u001b[0m in \u001b[0;36m<cell line: 1>\u001b[1;34m()\u001b[0m\n\u001b[1;32m----> <a href='vscode-notebook-cell:/d%3A/Polars/polar.ipynb#W3sZmlsZQ%3D%3D?line=0'>1</a>\u001b[0m sf_scan\n",
      "\u001b[1;31mNameError\u001b[0m: name 'sf_scan' is not defined"
     ]
    }
   ],
   "source": [
    "sf_scan"
   ]
  },
  {
   "cell_type": "code",
   "execution_count": 5,
   "metadata": {},
   "outputs": [
    {
     "data": {
      "text/plain": [
       "{'': Utf8,\n",
       " '100001565398': Int64,\n",
       " '082012': Int64,\n",
       " 'R': Utf8,\n",
       " 'Quicken Loans Inc.': Utf8,\n",
       " 'Quicken Loans Inc._duplicated_0': Utf8,\n",
       " '_duplicated_0': Utf8,\n",
       " '4.375': Float64,\n",
       " '4.375_duplicated_0': Float64,\n",
       " '153000.00': Float64,\n",
       " '_duplicated_1': Utf8,\n",
       " '0.00': Float64,\n",
       " '360': Int64,\n",
       " '072012': Int64,\n",
       " '092012': Int64,\n",
       " '0': Int64,\n",
       " '360_duplicated_0': Int64,\n",
       " '359': Int64,\n",
       " '082042': Int64,\n",
       " '138': Int64,\n",
       " '138_duplicated_0': Int64,\n",
       " '1': Int64,\n",
       " '_duplicated_2': Utf8,\n",
       " '700': Int64,\n",
       " '_duplicated_3': Int64,\n",
       " 'N': Utf8,\n",
       " 'R_duplicated_0': Utf8,\n",
       " 'SF': Utf8,\n",
       " '1_duplicated_0': Int64,\n",
       " 'I': Utf8,\n",
       " 'FL': Utf8,\n",
       " '29460': Int64,\n",
       " '347': Int64,\n",
       " '_duplicated_4': Float64,\n",
       " 'FRM': Utf8,\n",
       " 'N_duplicated_0': Utf8,\n",
       " 'N_duplicated_1': Utf8,\n",
       " '_duplicated_5': Utf8,\n",
       " '_duplicated_6': Utf8,\n",
       " '00': Utf8,\n",
       " '_duplicated_7': Utf8,\n",
       " 'N_duplicated_2': Utf8,\n",
       " '_duplicated_8': Utf8,\n",
       " '_duplicated_9': Int64,\n",
       " '_duplicated_10': Int64,\n",
       " '_duplicated_11': Float64,\n",
       " '_duplicated_12': Utf8,\n",
       " '_duplicated_13': Utf8,\n",
       " '_duplicated_14': Utf8,\n",
       " '_duplicated_15': Utf8,\n",
       " '_duplicated_16': Utf8,\n",
       " '_duplicated_17': Utf8,\n",
       " '_duplicated_18': Utf8,\n",
       " '_duplicated_19': Utf8,\n",
       " '_duplicated_20': Utf8,\n",
       " '_duplicated_21': Utf8,\n",
       " '_duplicated_22': Utf8,\n",
       " '_duplicated_23': Utf8,\n",
       " '_duplicated_24': Utf8,\n",
       " '_duplicated_25': Utf8,\n",
       " '_duplicated_26': Utf8,\n",
       " '_duplicated_27': Utf8,\n",
       " '_duplicated_28': Utf8,\n",
       " '_duplicated_29': Utf8,\n",
       " '_duplicated_30': Utf8,\n",
       " '_duplicated_31': Utf8,\n",
       " '_duplicated_32': Utf8,\n",
       " '_duplicated_33': Utf8,\n",
       " '_duplicated_34': Utf8,\n",
       " '_duplicated_35': Utf8,\n",
       " '_duplicated_36': Utf8,\n",
       " '_duplicated_37': Utf8,\n",
       " '_duplicated_38': Int64,\n",
       " 'N_duplicated_3': Utf8,\n",
       " '_duplicated_39': Utf8,\n",
       " '_duplicated_40': Utf8,\n",
       " '_duplicated_41': Utf8,\n",
       " '_duplicated_42': Utf8,\n",
       " '7': Int64,\n",
       " '_duplicated_43': Utf8,\n",
       " 'N_duplicated_4': Utf8,\n",
       " '_duplicated_44': Utf8,\n",
       " '_duplicated_45': Utf8,\n",
       " '_duplicated_46': Utf8,\n",
       " '_duplicated_47': Utf8,\n",
       " '_duplicated_48': Utf8,\n",
       " 'N_duplicated_5': Utf8,\n",
       " '_duplicated_49': Utf8,\n",
       " '_duplicated_50': Utf8,\n",
       " '_duplicated_51': Utf8,\n",
       " '_duplicated_52': Utf8,\n",
       " '_duplicated_53': Utf8,\n",
       " '_duplicated_54': Utf8,\n",
       " '_duplicated_55': Utf8,\n",
       " '_duplicated_56': Utf8,\n",
       " '_duplicated_57': Utf8,\n",
       " '_duplicated_58': Utf8,\n",
       " '_duplicated_59': Utf8,\n",
       " '_duplicated_60': Utf8,\n",
       " '_duplicated_61': Utf8,\n",
       " '_duplicated_62': Utf8,\n",
       " '_duplicated_63': Utf8,\n",
       " 'N_duplicated_6': Utf8,\n",
       " '_duplicated_64': Utf8,\n",
       " '_duplicated_65': Utf8,\n",
       " '_duplicated_66': Utf8,\n",
       " '_duplicated_67': Utf8}"
      ]
     },
     "execution_count": 5,
     "metadata": {},
     "output_type": "execute_result"
    }
   ],
   "source": [
    "sf_scan.schema"
   ]
  },
  {
   "cell_type": "code",
   "execution_count": 6,
   "metadata": {},
   "outputs": [
    {
     "data": {
      "text/html": [
       "<div><style>\n",
       ".dataframe > thead > tr > th,\n",
       ".dataframe > tbody > tr > td {\n",
       "  text-align: right;\n",
       "}\n",
       "</style>\n",
       "<small>shape: (5, 107)</small><table border=\"1\" class=\"dataframe\"><thead><tr><th></th><th>100001565398</th><th>082012</th><th>R</th><th>Quicken Loans Inc.</th><th>Quicken Loans Inc._duplicated_0</th><th>_duplicated_0</th><th>4.375</th><th>4.375_duplicated_0</th><th>153000.00</th><th>_duplicated_1</th><th>0.00</th><th>360</th><th>072012</th><th>092012</th><th>0</th><th>360_duplicated_0</th><th>359</th><th>082042</th><th>138</th><th>138_duplicated_0</th><th>1</th><th>_duplicated_2</th><th>700</th><th>_duplicated_3</th><th>N</th><th>R_duplicated_0</th><th>SF</th><th>1_duplicated_0</th><th>I</th><th>FL</th><th>29460</th><th>347</th><th>_duplicated_4</th><th>FRM</th><th>N_duplicated_0</th><th>N_duplicated_1</th><th>&hellip;</th><th>_duplicated_36</th><th>_duplicated_37</th><th>_duplicated_38</th><th>N_duplicated_3</th><th>_duplicated_39</th><th>_duplicated_40</th><th>_duplicated_41</th><th>_duplicated_42</th><th>7</th><th>_duplicated_43</th><th>N_duplicated_4</th><th>_duplicated_44</th><th>_duplicated_45</th><th>_duplicated_46</th><th>_duplicated_47</th><th>_duplicated_48</th><th>N_duplicated_5</th><th>_duplicated_49</th><th>_duplicated_50</th><th>_duplicated_51</th><th>_duplicated_52</th><th>_duplicated_53</th><th>_duplicated_54</th><th>_duplicated_55</th><th>_duplicated_56</th><th>_duplicated_57</th><th>_duplicated_58</th><th>_duplicated_59</th><th>_duplicated_60</th><th>_duplicated_61</th><th>_duplicated_62</th><th>_duplicated_63</th><th>N_duplicated_6</th><th>_duplicated_64</th><th>_duplicated_65</th><th>_duplicated_66</th><th>_duplicated_67</th></tr><tr><td>str</td><td>i64</td><td>i64</td><td>str</td><td>str</td><td>str</td><td>str</td><td>f64</td><td>f64</td><td>f64</td><td>str</td><td>f64</td><td>i64</td><td>i64</td><td>i64</td><td>i64</td><td>i64</td><td>i64</td><td>i64</td><td>i64</td><td>i64</td><td>i64</td><td>str</td><td>i64</td><td>i64</td><td>str</td><td>str</td><td>str</td><td>i64</td><td>str</td><td>str</td><td>i64</td><td>i64</td><td>f64</td><td>str</td><td>str</td><td>str</td><td>&hellip;</td><td>str</td><td>str</td><td>i64</td><td>str</td><td>str</td><td>str</td><td>str</td><td>str</td><td>i64</td><td>str</td><td>str</td><td>str</td><td>str</td><td>str</td><td>str</td><td>str</td><td>str</td><td>str</td><td>str</td><td>str</td><td>str</td><td>str</td><td>str</td><td>str</td><td>str</td><td>str</td><td>str</td><td>str</td><td>str</td><td>str</td><td>str</td><td>str</td><td>str</td><td>str</td><td>str</td><td>str</td><td>str</td></tr></thead><tbody><tr><td>null</td><td>100001565398</td><td>92012</td><td>&quot;R&quot;</td><td>&quot;Quicken Loans …</td><td>&quot;Other&quot;</td><td>null</td><td>4.375</td><td>4.375</td><td>153000.0</td><td>null</td><td>0.0</td><td>360</td><td>72012</td><td>92012</td><td>1</td><td>359</td><td>359</td><td>82042</td><td>138</td><td>138</td><td>1</td><td>null</td><td>700</td><td>null</td><td>&quot;N&quot;</td><td>&quot;R&quot;</td><td>&quot;SF&quot;</td><td>1</td><td>&quot;I&quot;</td><td>&quot;FL&quot;</td><td>29460</td><td>347</td><td>null</td><td>&quot;FRM&quot;</td><td>&quot;N&quot;</td><td>&quot;N&quot;</td><td>&hellip;</td><td>null</td><td>null</td><td>null</td><td>&quot;Y&quot;</td><td>null</td><td>null</td><td>null</td><td>null</td><td>7</td><td>null</td><td>&quot;N&quot;</td><td>null</td><td>null</td><td>null</td><td>null</td><td>null</td><td>&quot;N&quot;</td><td>null</td><td>null</td><td>null</td><td>null</td><td>null</td><td>null</td><td>null</td><td>null</td><td>null</td><td>null</td><td>null</td><td>null</td><td>null</td><td>null</td><td>null</td><td>&quot;N&quot;</td><td>null</td><td>null</td><td>null</td><td>null</td></tr><tr><td>null</td><td>100001565398</td><td>102012</td><td>&quot;R&quot;</td><td>&quot;Quicken Loans …</td><td>&quot;Other&quot;</td><td>null</td><td>4.375</td><td>4.375</td><td>153000.0</td><td>null</td><td>0.0</td><td>360</td><td>72012</td><td>92012</td><td>2</td><td>358</td><td>358</td><td>82042</td><td>138</td><td>138</td><td>1</td><td>null</td><td>700</td><td>null</td><td>&quot;N&quot;</td><td>&quot;R&quot;</td><td>&quot;SF&quot;</td><td>1</td><td>&quot;I&quot;</td><td>&quot;FL&quot;</td><td>29460</td><td>347</td><td>null</td><td>&quot;FRM&quot;</td><td>&quot;N&quot;</td><td>&quot;N&quot;</td><td>&hellip;</td><td>null</td><td>null</td><td>null</td><td>&quot;N&quot;</td><td>null</td><td>null</td><td>null</td><td>null</td><td>7</td><td>null</td><td>&quot;N&quot;</td><td>null</td><td>null</td><td>null</td><td>null</td><td>null</td><td>&quot;N&quot;</td><td>null</td><td>null</td><td>null</td><td>null</td><td>null</td><td>null</td><td>null</td><td>null</td><td>null</td><td>null</td><td>null</td><td>null</td><td>null</td><td>null</td><td>null</td><td>&quot;N&quot;</td><td>null</td><td>null</td><td>null</td><td>null</td></tr><tr><td>null</td><td>100001565398</td><td>112012</td><td>&quot;R&quot;</td><td>&quot;Quicken Loans …</td><td>&quot;Other&quot;</td><td>null</td><td>4.375</td><td>4.375</td><td>153000.0</td><td>null</td><td>0.0</td><td>360</td><td>72012</td><td>92012</td><td>3</td><td>357</td><td>357</td><td>82042</td><td>138</td><td>138</td><td>1</td><td>null</td><td>700</td><td>null</td><td>&quot;N&quot;</td><td>&quot;R&quot;</td><td>&quot;SF&quot;</td><td>1</td><td>&quot;I&quot;</td><td>&quot;FL&quot;</td><td>29460</td><td>347</td><td>null</td><td>&quot;FRM&quot;</td><td>&quot;N&quot;</td><td>&quot;N&quot;</td><td>&hellip;</td><td>null</td><td>null</td><td>null</td><td>&quot;N&quot;</td><td>null</td><td>null</td><td>null</td><td>null</td><td>7</td><td>null</td><td>&quot;N&quot;</td><td>null</td><td>null</td><td>null</td><td>null</td><td>null</td><td>&quot;N&quot;</td><td>null</td><td>null</td><td>null</td><td>null</td><td>null</td><td>null</td><td>null</td><td>null</td><td>null</td><td>null</td><td>null</td><td>null</td><td>null</td><td>null</td><td>null</td><td>&quot;N&quot;</td><td>null</td><td>null</td><td>null</td><td>null</td></tr><tr><td>null</td><td>100001565398</td><td>122012</td><td>&quot;R&quot;</td><td>&quot;Quicken Loans …</td><td>&quot;Other&quot;</td><td>null</td><td>4.375</td><td>4.375</td><td>153000.0</td><td>null</td><td>0.0</td><td>360</td><td>72012</td><td>92012</td><td>4</td><td>356</td><td>356</td><td>82042</td><td>138</td><td>138</td><td>1</td><td>null</td><td>700</td><td>null</td><td>&quot;N&quot;</td><td>&quot;R&quot;</td><td>&quot;SF&quot;</td><td>1</td><td>&quot;I&quot;</td><td>&quot;FL&quot;</td><td>29460</td><td>347</td><td>null</td><td>&quot;FRM&quot;</td><td>&quot;N&quot;</td><td>&quot;N&quot;</td><td>&hellip;</td><td>null</td><td>null</td><td>null</td><td>&quot;N&quot;</td><td>null</td><td>null</td><td>null</td><td>null</td><td>7</td><td>null</td><td>&quot;N&quot;</td><td>null</td><td>null</td><td>null</td><td>null</td><td>null</td><td>&quot;N&quot;</td><td>null</td><td>null</td><td>null</td><td>null</td><td>null</td><td>null</td><td>null</td><td>null</td><td>null</td><td>null</td><td>null</td><td>null</td><td>null</td><td>null</td><td>null</td><td>&quot;N&quot;</td><td>null</td><td>null</td><td>null</td><td>null</td></tr><tr><td>null</td><td>100001565398</td><td>12013</td><td>&quot;R&quot;</td><td>&quot;Quicken Loans …</td><td>&quot;Fannie Mae/Set…</td><td>null</td><td>4.375</td><td>4.375</td><td>153000.0</td><td>null</td><td>0.0</td><td>360</td><td>72012</td><td>92012</td><td>5</td><td>355</td><td>355</td><td>82042</td><td>138</td><td>138</td><td>1</td><td>null</td><td>700</td><td>null</td><td>&quot;N&quot;</td><td>&quot;R&quot;</td><td>&quot;SF&quot;</td><td>1</td><td>&quot;I&quot;</td><td>&quot;FL&quot;</td><td>29460</td><td>347</td><td>null</td><td>&quot;FRM&quot;</td><td>&quot;N&quot;</td><td>&quot;N&quot;</td><td>&hellip;</td><td>null</td><td>null</td><td>null</td><td>&quot;N&quot;</td><td>null</td><td>null</td><td>null</td><td>null</td><td>7</td><td>null</td><td>&quot;N&quot;</td><td>null</td><td>null</td><td>null</td><td>null</td><td>null</td><td>&quot;N&quot;</td><td>null</td><td>null</td><td>null</td><td>null</td><td>null</td><td>null</td><td>null</td><td>null</td><td>null</td><td>null</td><td>null</td><td>null</td><td>null</td><td>null</td><td>null</td><td>&quot;N&quot;</td><td>null</td><td>null</td><td>null</td><td>null</td></tr></tbody></table></div>"
      ],
      "text/plain": [
       "shape: (5, 107)\n",
       "┌──────┬────────────┬────────┬─────┬───┬──────────────┬──────────────┬──────────────┬──────────────┐\n",
       "│      ┆ 1000015653 ┆ 082012 ┆ R   ┆ … ┆ _duplicated_ ┆ _duplicated_ ┆ _duplicated_ ┆ _duplicated_ │\n",
       "│ ---  ┆ 98         ┆ ---    ┆ --- ┆   ┆ 64           ┆ 65           ┆ 66           ┆ 67           │\n",
       "│ str  ┆ ---        ┆ i64    ┆ str ┆   ┆ ---          ┆ ---          ┆ ---          ┆ ---          │\n",
       "│      ┆ i64        ┆        ┆     ┆   ┆ str          ┆ str          ┆ str          ┆ str          │\n",
       "╞══════╪════════════╪════════╪═════╪═══╪══════════════╪══════════════╪══════════════╪══════════════╡\n",
       "│ null ┆ 1000015653 ┆ 92012  ┆ R   ┆ … ┆ null         ┆ null         ┆ null         ┆ null         │\n",
       "│      ┆ 98         ┆        ┆     ┆   ┆              ┆              ┆              ┆              │\n",
       "│ null ┆ 1000015653 ┆ 102012 ┆ R   ┆ … ┆ null         ┆ null         ┆ null         ┆ null         │\n",
       "│      ┆ 98         ┆        ┆     ┆   ┆              ┆              ┆              ┆              │\n",
       "│ null ┆ 1000015653 ┆ 112012 ┆ R   ┆ … ┆ null         ┆ null         ┆ null         ┆ null         │\n",
       "│      ┆ 98         ┆        ┆     ┆   ┆              ┆              ┆              ┆              │\n",
       "│ null ┆ 1000015653 ┆ 122012 ┆ R   ┆ … ┆ null         ┆ null         ┆ null         ┆ null         │\n",
       "│      ┆ 98         ┆        ┆     ┆   ┆              ┆              ┆              ┆              │\n",
       "│ null ┆ 1000015653 ┆ 12013  ┆ R   ┆ … ┆ null         ┆ null         ┆ null         ┆ null         │\n",
       "│      ┆ 98         ┆        ┆     ┆   ┆              ┆              ┆              ┆              │\n",
       "└──────┴────────────┴────────┴─────┴───┴──────────────┴──────────────┴──────────────┴──────────────┘"
      ]
     },
     "execution_count": 6,
     "metadata": {},
     "output_type": "execute_result"
    }
   ],
   "source": [
    "sf_scan.head().collect()"
   ]
  },
  {
   "cell_type": "code",
   "execution_count": 6,
   "metadata": {},
   "outputs": [
    {
     "ename": "",
     "evalue": "",
     "output_type": "error",
     "traceback": [
      "\u001b[1;31mCannot execute code, session has been disposed. Please try restarting the Kernel."
     ]
    },
    {
     "ename": "",
     "evalue": "",
     "output_type": "error",
     "traceback": [
      "\u001b[1;31mThe Kernel crashed while executing code in the the current cell or a previous cell. Please review the code in the cell(s) to identify a possible cause of the failure. Click <a href='https://aka.ms/vscodeJupyterKernelCrash'>here</a> for more info. View Jupyter <a href='command:jupyter.viewOutput'>log</a> for further details."
     ]
    }
   ],
   "source": [
    "# sf_scan.select(pl.count()).collect()"
   ]
  },
  {
   "cell_type": "code",
   "execution_count": 7,
   "metadata": {},
   "outputs": [
    {
     "ename": "",
     "evalue": "",
     "output_type": "error",
     "traceback": [
      "\u001b[1;31mCannot execute code, session has been disposed. Please try restarting the Kernel."
     ]
    },
    {
     "ename": "",
     "evalue": "",
     "output_type": "error",
     "traceback": [
      "\u001b[1;31mThe Kernel crashed while executing code in the the current cell or a previous cell. Please review the code in the cell(s) to identify a possible cause of the failure. Click <a href='https://aka.ms/vscodeJupyterKernelCrash'>here</a> for more info. View Jupyter <a href='command:jupyter.viewOutput'>log</a> for further details."
     ]
    }
   ],
   "source": [
    "%%timeit\n",
    "sf_scan.select(pl.count()).collect()"
   ]
  },
  {
   "cell_type": "code",
   "execution_count": null,
   "metadata": {},
   "outputs": [],
   "source": []
  }
 ],
 "metadata": {
  "kernelspec": {
   "display_name": "base",
   "language": "python",
   "name": "python3"
  },
  "language_info": {
   "codemirror_mode": {
    "name": "ipython",
    "version": 3
   },
   "file_extension": ".py",
   "mimetype": "text/x-python",
   "name": "python",
   "nbconvert_exporter": "python",
   "pygments_lexer": "ipython3",
   "version": "3.9.12"
  },
  "orig_nbformat": 4
 },
 "nbformat": 4,
 "nbformat_minor": 2
}
